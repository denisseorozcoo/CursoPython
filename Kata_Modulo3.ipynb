{
 "cells": [
  {
   "cell_type": "code",
   "execution_count": 12,
   "metadata": {},
   "outputs": [
    {
     "name": "stdout",
     "output_type": "stream",
     "text": [
      "Un asteroide se acerca y viaja a una velocidad de  43  km/s\n"
     ]
    }
   ],
   "source": [
    "I= 43\n",
    "if I > 25:\n",
    "    print('Un asteroide se acerca y viaja a una velocidad de ',I, ' km/s' )\n",
    "\n",
    "else:\n",
    "    print('Nada que ver aquì')"
   ]
  },
  {
   "cell_type": "code",
   "execution_count": 14,
   "metadata": {},
   "outputs": [
    {
     "name": "stdout",
     "output_type": "stream",
     "text": [
      "Mira al cielo ¡Hay una luz màgica en el cielo!\n"
     ]
    }
   ],
   "source": [
    "I= 23\n",
    "if I > 20:\n",
    "    print('Mira al cielo ¡Hay una luz màgica en el cielo!' )\n",
    "elif I==20:\n",
    "    print('Mira al cielo ¡Hay una luz màgica en el cielo!')\n",
    "else:\n",
    "    print('Nada que ver aquì')"
   ]
  },
  {
   "cell_type": "code",
   "execution_count": 20,
   "metadata": {},
   "outputs": [
    {
     "name": "stdout",
     "output_type": "stream",
     "text": [
      "¡Alerta, Un asteroide muy peligroso viene hacia la Tierra!\n"
     ]
    }
   ],
   "source": [
    "V=28\n",
    "T=60\n",
    "if V>25 and T>25:\n",
    "    print('¡Alerta, Un asteroide muy peligroso viene hacia la Tierra!' )\n",
    "elif V>=20:\n",
    "    print('Mira al cielo ¡Hay una luz màgica en el cielo!' )\n",
    "\n",
    "else:\n",
    "    print('Nada que ver aquì')\n",
    "\n"
   ]
  }
 ],
 "metadata": {
  "interpreter": {
   "hash": "c7176bb53f4ab4806955a30f558dc19ed11e33aae0ea473e14c405a5ccfb3788"
  },
  "kernelspec": {
   "display_name": "Python 3.10.2 64-bit",
   "language": "python",
   "name": "python3"
  },
  "language_info": {
   "codemirror_mode": {
    "name": "ipython",
    "version": 3
   },
   "file_extension": ".py",
   "mimetype": "text/x-python",
   "name": "python",
   "nbconvert_exporter": "python",
   "pygments_lexer": "ipython3",
   "version": "3.10.2"
  },
  "orig_nbformat": 4
 },
 "nbformat": 4,
 "nbformat_minor": 2
}
