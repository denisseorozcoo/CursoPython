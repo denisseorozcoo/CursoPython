{
 "cells": [
  {
   "cell_type": "markdown",
   "metadata": {},
   "source": [
    "Ejercicio1 - Utilizar operadores aritméticos"
   ]
  },
  {
   "cell_type": "code",
   "execution_count": 8,
   "metadata": {},
   "outputs": [
    {
     "name": "stdout",
     "output_type": "stream",
     "text": [
      "-71743150\n",
      "-44552496.15\n"
     ]
    }
   ],
   "source": [
    "distancia_tiera = 149597870\n",
    "distanica_jupiter = 77854720\n",
    "distancia_km= distanica_jupiter - distancia_tiera\n",
    "print(distancia_km)\n",
    "resultado= distancia_km *.621\n",
    "print(resultado)"
   ]
  },
  {
   "cell_type": "markdown",
   "metadata": {},
   "source": [
    "Ejercicio 2: convierte cadenas en números y usa valores absolutos"
   ]
  },
  {
   "cell_type": "code",
   "execution_count": 11,
   "metadata": {},
   "outputs": [],
   "source": [
    "# Almacenar las entradas del usuario\n",
    "p_planeta= input(\"¿Cuál es la distancia del sol para el primer planeta?\")\n",
    "s_planeta=input(\"¿Cuál es la distancia del sol para el segundo planeta?\")\n",
    "# Convierte las cadenas de ambos planetas a números enteros\n",
    "p_planeta=int(p_planeta)\n",
    "s_planeta=int(s_planeta)\n"
   ]
  },
  {
   "cell_type": "code",
   "execution_count": 12,
   "metadata": {},
   "outputs": [
    {
     "name": "stdout",
     "output_type": "stream",
     "text": [
      "la distancia entre el primer planeta y el segundo planeta es 50300000  en km\n",
      "la distancia entre el primer planeta y el segundo planeta es 31236300.0  en millas\n"
     ]
    }
   ],
   "source": [
    "# Realizar el cálculo y determinar el valor absoluto\n",
    "distancia=abs(p_planeta-s_planeta)\n",
    "print('la distancia entre el primer planeta y el segundo planeta es', distancia ,' en km')\n",
    "# Convertir de KM a Millas\n",
    "distancia_millas= distancia * .621\n",
    "print('la distancia entre el primer planeta y el segundo planeta es', distancia_millas,' en millas')"
   ]
  }
 ],
 "metadata": {
  "interpreter": {
   "hash": "c7176bb53f4ab4806955a30f558dc19ed11e33aae0ea473e14c405a5ccfb3788"
  },
  "kernelspec": {
   "display_name": "Python 3.10.2 64-bit",
   "language": "python",
   "name": "python3"
  },
  "language_info": {
   "codemirror_mode": {
    "name": "ipython",
    "version": 3
   },
   "file_extension": ".py",
   "mimetype": "text/x-python",
   "name": "python",
   "nbconvert_exporter": "python",
   "pygments_lexer": "ipython3",
   "version": "3.10.2"
  },
  "orig_nbformat": 4
 },
 "nbformat": 4,
 "nbformat_minor": 2
}
