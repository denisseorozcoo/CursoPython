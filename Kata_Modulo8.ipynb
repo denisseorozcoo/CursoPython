{
 "cells": [
  {
   "cell_type": "markdown",
   "metadata": {},
   "source": [
    "Ejercicio 1: Creación de diccionarios de Python"
   ]
  },
  {
   "cell_type": "code",
   "execution_count": 3,
   "metadata": {},
   "outputs": [
    {
     "name": "stdout",
     "output_type": "stream",
     "text": [
      "Mars tiene 2 lunas\n"
     ]
    }
   ],
   "source": [
    "# Crea un diccionario llamado planet con los datos propuestos\n",
    "planet = {\n",
    "'name': 'Mars',\n",
    "'moons': 2\n",
    "}\n",
    "\n",
    "# Muestra el nombre del planeta y el número de lunas que tiene.\n",
    "print(planet.get('name'),'tiene',planet.get('moons'), 'lunas' )\n",
    "\n"
   ]
  },
  {
   "cell_type": "code",
   "execution_count": 11,
   "metadata": {},
   "outputs": [],
   "source": [
    "# Agrega la clave circunferencia con los datos proporcionados previamente\n",
    "planet['Clave circunferencia']={\n",
    "    'polar': 6752,\n",
    "    'equatorial': 6792\n",
    "}"
   ]
  },
  {
   "cell_type": "code",
   "execution_count": 13,
   "metadata": {},
   "outputs": [
    {
     "name": "stdout",
     "output_type": "stream",
     "text": [
      "Mars has a polar circumference of 6752\n"
     ]
    }
   ],
   "source": [
    "# Imprime el nombre del planeta con su circunferencia polar.\n",
    "print(f'{planet[\"name\"]} has a polar circumference of {planet[\"Clave circunferencia\"][\"polar\"]}')"
   ]
  },
  {
   "cell_type": "markdown",
   "metadata": {},
   "source": [
    "Ejercicio 2: Programación dinámica con diccionarios"
   ]
  },
  {
   "cell_type": "code",
   "execution_count": 18,
   "metadata": {},
   "outputs": [],
   "source": [
    "# Añade el código para determinar el número de lunas.\n",
    "# Planets and moons\n",
    "\n",
    "planet_moons = {\n",
    "    'mercury': 0,\n",
    "    'venus': 0,\n",
    "    'earth': 1,\n",
    "    'mars': 2,\n",
    "    'jupiter': 79,\n",
    "    'saturn': 82,\n",
    "    'uranus': 27,\n",
    "    'neptune': 14,\n",
    "    'pluto': 5,\n",
    "    'haumea': 2,\n",
    "    'makemake': 1,\n",
    "    'eris': 1\n",
    "}\n",
    "# Obtenemos la lista de las lunas\n",
    "# Almacenamos los resultados en una variable moons\n",
    "moons = planet_moons.values()\n",
    "\n",
    "# Obtenemos el total de planetas\n",
    "# Almacenamos los resultados en una variable llamada years\n",
    "planets = len(planet_moons.keys())"
   ]
  },
  {
   "cell_type": "code",
   "execution_count": 16,
   "metadata": {},
   "outputs": [
    {
     "name": "stdout",
     "output_type": "stream",
     "text": [
      "17.833333333333332\n"
     ]
    }
   ],
   "source": [
    "# Calcula el total_moons agregando todas las lunas\n",
    "# Almacena su valor en una variable llamada total_moons\n",
    "total_moons=0\n",
    "for moon in moons:\n",
    "    total_moons= total_moons+moon\n",
    "# Calcula el promedio dividiendo el total_moons por el número de planetas\n",
    "average = total_moons / planets\n",
    "\n",
    "# Muestra el promedio\n",
    "print(average)"
   ]
  }
 ],
 "metadata": {
  "interpreter": {
   "hash": "c7176bb53f4ab4806955a30f558dc19ed11e33aae0ea473e14c405a5ccfb3788"
  },
  "kernelspec": {
   "display_name": "Python 3.10.2 64-bit",
   "language": "python",
   "name": "python3"
  },
  "language_info": {
   "codemirror_mode": {
    "name": "ipython",
    "version": 3
   },
   "file_extension": ".py",
   "mimetype": "text/x-python",
   "name": "python",
   "nbconvert_exporter": "python",
   "pygments_lexer": "ipython3",
   "version": "3.10.2"
  },
  "orig_nbformat": 4
 },
 "nbformat": 4,
 "nbformat_minor": 2
}
